{
 "cells": [
  {
   "cell_type": "code",
   "execution_count": 2,
   "metadata": {},
   "outputs": [],
   "source": [
    "import pandas as pd\n",
    "import numpy as np\n",
    "import functools"
   ]
  },
  {
   "cell_type": "code",
   "execution_count": 7,
   "metadata": {},
   "outputs": [
    {
     "data": {
      "text/html": "<div>\n<style scoped>\n    .dataframe tbody tr th:only-of-type {\n        vertical-align: middle;\n    }\n\n    .dataframe tbody tr th {\n        vertical-align: top;\n    }\n\n    .dataframe thead th {\n        text-align: right;\n    }\n</style>\n<table border=\"1\" class=\"dataframe\">\n  <thead>\n    <tr style=\"text-align: right;\">\n      <th></th>\n      <th>Water_(g)</th>\n      <th>Protein_(g)</th>\n      <th>Lipid_Tot_(g)</th>\n      <th>Ash_(g)</th>\n      <th>Carbohydrt_(g)</th>\n      <th>Fiber_TD_(g)</th>\n      <th>Sugar_Tot_(g)</th>\n      <th>FA_Sat_(g)</th>\n      <th>FA_Mono_(g)</th>\n      <th>FA_Poly_(g)</th>\n    </tr>\n  </thead>\n  <tbody>\n    <tr>\n      <th>0</th>\n      <td>15.87</td>\n      <td>0.85</td>\n      <td>81.11</td>\n      <td>2.11</td>\n      <td>0.06</td>\n      <td>0.0</td>\n      <td>0.06</td>\n      <td>51.368</td>\n      <td>21.021</td>\n      <td>3.043</td>\n    </tr>\n    <tr>\n      <th>1</th>\n      <td>15.87</td>\n      <td>0.85</td>\n      <td>81.11</td>\n      <td>2.11</td>\n      <td>0.06</td>\n      <td>0.0</td>\n      <td>0.06</td>\n      <td>50.489</td>\n      <td>23.426</td>\n      <td>3.012</td>\n    </tr>\n    <tr>\n      <th>2</th>\n      <td>0.24</td>\n      <td>0.28</td>\n      <td>99.48</td>\n      <td>0.00</td>\n      <td>0.00</td>\n      <td>0.0</td>\n      <td>0.00</td>\n      <td>61.924</td>\n      <td>28.732</td>\n      <td>3.694</td>\n    </tr>\n    <tr>\n      <th>3</th>\n      <td>42.41</td>\n      <td>21.40</td>\n      <td>28.74</td>\n      <td>5.11</td>\n      <td>2.34</td>\n      <td>0.0</td>\n      <td>0.50</td>\n      <td>18.669</td>\n      <td>7.778</td>\n      <td>0.800</td>\n    </tr>\n    <tr>\n      <th>4</th>\n      <td>41.11</td>\n      <td>23.24</td>\n      <td>29.68</td>\n      <td>3.18</td>\n      <td>2.79</td>\n      <td>0.0</td>\n      <td>0.51</td>\n      <td>18.764</td>\n      <td>8.598</td>\n      <td>0.784</td>\n    </tr>\n    <tr>\n      <th>...</th>\n      <td>...</td>\n      <td>...</td>\n      <td>...</td>\n      <td>...</td>\n      <td>...</td>\n      <td>...</td>\n      <td>...</td>\n      <td>...</td>\n      <td>...</td>\n      <td>...</td>\n    </tr>\n    <tr>\n      <th>8613</th>\n      <td>43.00</td>\n      <td>18.50</td>\n      <td>25.10</td>\n      <td>13.40</td>\n      <td>0.00</td>\n      <td>0.0</td>\n      <td>0.00</td>\n      <td>7.148</td>\n      <td>8.320</td>\n      <td>6.210</td>\n    </tr>\n    <tr>\n      <th>8614</th>\n      <td>70.25</td>\n      <td>20.54</td>\n      <td>0.84</td>\n      <td>2.97</td>\n      <td>5.41</td>\n      <td>0.0</td>\n      <td>0.00</td>\n      <td>0.218</td>\n      <td>0.082</td>\n      <td>0.222</td>\n    </tr>\n    <tr>\n      <th>8615</th>\n      <td>26.00</td>\n      <td>0.00</td>\n      <td>0.00</td>\n      <td>0.86</td>\n      <td>73.14</td>\n      <td>0.0</td>\n      <td>73.20</td>\n      <td>0.000</td>\n      <td>0.000</td>\n      <td>0.000</td>\n    </tr>\n    <tr>\n      <th>8616</th>\n      <td>79.20</td>\n      <td>16.10</td>\n      <td>1.40</td>\n      <td>1.30</td>\n      <td>2.00</td>\n      <td>0.0</td>\n      <td>0.00</td>\n      <td>0.361</td>\n      <td>0.259</td>\n      <td>0.252</td>\n    </tr>\n    <tr>\n      <th>8617</th>\n      <td>78.50</td>\n      <td>19.80</td>\n      <td>0.50</td>\n      <td>1.20</td>\n      <td>0.00</td>\n      <td>0.0</td>\n      <td>0.00</td>\n      <td>0.127</td>\n      <td>0.088</td>\n      <td>0.170</td>\n    </tr>\n  </tbody>\n</table>\n<p>8618 rows × 10 columns</p>\n</div>",
      "text/plain": "      Water_(g)  Protein_(g)  Lipid_Tot_(g)  Ash_(g)  Carbohydrt_(g)  \\\n0         15.87         0.85          81.11     2.11            0.06   \n1         15.87         0.85          81.11     2.11            0.06   \n2          0.24         0.28          99.48     0.00            0.00   \n3         42.41        21.40          28.74     5.11            2.34   \n4         41.11        23.24          29.68     3.18            2.79   \n...         ...          ...            ...      ...             ...   \n8613      43.00        18.50          25.10    13.40            0.00   \n8614      70.25        20.54           0.84     2.97            5.41   \n8615      26.00         0.00           0.00     0.86           73.14   \n8616      79.20        16.10           1.40     1.30            2.00   \n8617      78.50        19.80           0.50     1.20            0.00   \n\n      Fiber_TD_(g)  Sugar_Tot_(g)  FA_Sat_(g)  FA_Mono_(g)  FA_Poly_(g)  \n0              0.0           0.06      51.368       21.021        3.043  \n1              0.0           0.06      50.489       23.426        3.012  \n2              0.0           0.00      61.924       28.732        3.694  \n3              0.0           0.50      18.669        7.778        0.800  \n4              0.0           0.51      18.764        8.598        0.784  \n...            ...            ...         ...          ...          ...  \n8613           0.0           0.00       7.148        8.320        6.210  \n8614           0.0           0.00       0.218        0.082        0.222  \n8615           0.0          73.20       0.000        0.000        0.000  \n8616           0.0           0.00       0.361        0.259        0.252  \n8617           0.0           0.00       0.127        0.088        0.170  \n\n[8618 rows x 10 columns]"
     },
     "execution_count": 7,
     "metadata": {},
     "output_type": "execute_result"
    }
   ],
   "source": [
    "food_info = pd.read_csv(\"food_info.csv\")\n",
    "num_row = food_info.shape[0]\n",
    "\n",
    "gcol = []\n",
    "for col in list(food_info.columns):\n",
    "    if col.endswith('(g)'):\n",
    "        gcol.append(col)\n",
    "\n",
    "gcol2 = list(filter(\n",
    "    (lambda str:str.endswith('(g)')),\n",
    "    list(food_info.columns)))\n",
    "\n",
    "food_info[gcol2]\n"
   ]
  }
 ],
 "metadata": {
  "kernelspec": {
   "display_name": "Python 3.8.0 64-bit",
   "name": "python380jvsc74a57bd0aee8b7b246df8f9039afb4144a1f6fd8d2ca17a180786b69acc140d282b71a49"
  },
  "language_info": {
   "codemirror_mode": {
    "name": "ipython",
    "version": 3
   },
   "file_extension": ".py",
   "mimetype": "text/x-python",
   "name": "python",
   "nbconvert_exporter": "python",
   "pygments_lexer": "ipython3",
   "version": "3.8.0"
  },
  "metadata": {
   "interpreter": {
    "hash": "aee8b7b246df8f9039afb4144a1f6fd8d2ca17a180786b69acc140d282b71a49"
   }
  },
  "orig_nbformat": 2
 },
 "nbformat": 4,
 "nbformat_minor": 2
}