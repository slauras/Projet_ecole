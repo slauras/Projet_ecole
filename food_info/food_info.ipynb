{
 "cells": [
  {
   "cell_type": "code",
   "execution_count": 1,
   "metadata": {},
   "outputs": [],
   "source": [
    "import pandas as pd\n",
    "import numpy as np\n",
    "import functools"
   ]
  },
  {
   "cell_type": "code",
   "execution_count": 28,
   "metadata": {},
   "outputs": [
    {
     "data": {
      "text/html": "<div>\n<style scoped>\n    .dataframe tbody tr th:only-of-type {\n        vertical-align: middle;\n    }\n\n    .dataframe tbody tr th {\n        vertical-align: top;\n    }\n\n    .dataframe thead th {\n        text-align: right;\n    }\n</style>\n<table border=\"1\" class=\"dataframe\">\n  <thead>\n    <tr style=\"text-align: right;\">\n      <th></th>\n      <th>Protein_(g)</th>\n      <th>prot_normalized</th>\n    </tr>\n  </thead>\n  <tbody>\n    <tr>\n      <th>4991</th>\n      <td>88.32</td>\n      <td>1.000000</td>\n    </tr>\n    <tr>\n      <th>6155</th>\n      <td>85.60</td>\n      <td>0.969203</td>\n    </tr>\n    <tr>\n      <th>216</th>\n      <td>84.63</td>\n      <td>0.958220</td>\n    </tr>\n    <tr>\n      <th>8152</th>\n      <td>82.60</td>\n      <td>0.935236</td>\n    </tr>\n    <tr>\n      <th>124</th>\n      <td>82.40</td>\n      <td>0.932971</td>\n    </tr>\n    <tr>\n      <th>...</th>\n      <td>...</td>\n      <td>...</td>\n    </tr>\n    <tr>\n      <th>743</th>\n      <td>0.00</td>\n      <td>0.000000</td>\n    </tr>\n    <tr>\n      <th>744</th>\n      <td>0.00</td>\n      <td>0.000000</td>\n    </tr>\n    <tr>\n      <th>745</th>\n      <td>0.00</td>\n      <td>0.000000</td>\n    </tr>\n    <tr>\n      <th>746</th>\n      <td>0.00</td>\n      <td>0.000000</td>\n    </tr>\n    <tr>\n      <th>4309</th>\n      <td>0.00</td>\n      <td>0.000000</td>\n    </tr>\n  </tbody>\n</table>\n<p>8618 rows × 2 columns</p>\n</div>",
      "text/plain": "      Protein_(g)  prot_normalized\n4991        88.32         1.000000\n6155        85.60         0.969203\n216         84.63         0.958220\n8152        82.60         0.935236\n124         82.40         0.932971\n...           ...              ...\n743          0.00         0.000000\n744          0.00         0.000000\n745          0.00         0.000000\n746          0.00         0.000000\n4309         0.00         0.000000\n\n[8618 rows x 2 columns]"
     },
     "execution_count": 28,
     "metadata": {},
     "output_type": "execute_result"
    }
   ],
   "source": [
    "food_info = pd.read_csv(\"food_info.csv\")\n",
    "num_row = food_info.shape[0]\n",
    "\n",
    "gcol = []\n",
    "for col in list(food_info.columns):\n",
    "    if col.endswith('(g)'):\n",
    "        gcol.append(col)\n",
    "\n",
    "gcol2 = list(filter(\n",
    "    (lambda str:str.endswith('(g)')),\n",
    "    list(food_info.columns)))\n",
    "print(\"lol\")\n",
    "\n",
    "food_info[\"prot_normalized\"] = food_info[\"Protein_(g)\"] / food_info[\"Protein_(g)\"].max()\n",
    "food_info_prot = food_info[[\"Protein_(g)\",\"prot_normalized\"]]\n",
    "\n",
    "food_info_prot.sort_values(by=['prot_normalized'], ascending=False)"
   ]
  },
  {
   "cell_type": "code",
   "execution_count": null,
   "metadata": {},
   "outputs": [],
   "source": []
  },
  {
   "cell_type": "code",
   "execution_count": null,
   "metadata": {},
   "outputs": [],
   "source": []
  },
  {
   "cell_type": "code",
   "execution_count": null,
   "metadata": {},
   "outputs": [],
   "source": []
  }
 ],
 "metadata": {
  "kernelspec": {
   "display_name": "Python 3.8.0 64-bit",
   "name": "python380jvsc74a57bd0aee8b7b246df8f9039afb4144a1f6fd8d2ca17a180786b69acc140d282b71a49"
  },
  "language_info": {
   "codemirror_mode": {
    "name": "ipython",
    "version": 3
   },
   "file_extension": ".py",
   "mimetype": "text/x-python",
   "name": "python",
   "nbconvert_exporter": "python",
   "pygments_lexer": "ipython3",
   "version": "3.8.0"
  },
  "metadata": {
   "interpreter": {
    "hash": "aee8b7b246df8f9039afb4144a1f6fd8d2ca17a180786b69acc140d282b71a49"
   }
  },
  "orig_nbformat": 3
 },
 "nbformat": 4,
 "nbformat_minor": 2
}