{
 "cells": [
  {
   "cell_type": "code",
   "execution_count": 33,
   "metadata": {},
   "outputs": [],
   "source": [
    "import pandas as pd\n",
    "import numpy as np\n",
    "import functools"
   ]
  },
  {
   "cell_type": "code",
   "execution_count": 28,
   "metadata": {},
   "outputs": [
    {
     "data": {
      "text/html": "<div>\n<style scoped>\n    .dataframe tbody tr th:only-of-type {\n        vertical-align: middle;\n    }\n\n    .dataframe tbody tr th {\n        vertical-align: top;\n    }\n\n    .dataframe thead th {\n        text-align: right;\n    }\n</style>\n<table border=\"1\" class=\"dataframe\">\n  <thead>\n    <tr style=\"text-align: right;\">\n      <th></th>\n      <th>Protein_(g)</th>\n      <th>prot_normalized</th>\n    </tr>\n  </thead>\n  <tbody>\n    <tr>\n      <th>4991</th>\n      <td>88.32</td>\n      <td>1.000000</td>\n    </tr>\n    <tr>\n      <th>6155</th>\n      <td>85.60</td>\n      <td>0.969203</td>\n    </tr>\n    <tr>\n      <th>216</th>\n      <td>84.63</td>\n      <td>0.958220</td>\n    </tr>\n    <tr>\n      <th>8152</th>\n      <td>82.60</td>\n      <td>0.935236</td>\n    </tr>\n    <tr>\n      <th>124</th>\n      <td>82.40</td>\n      <td>0.932971</td>\n    </tr>\n    <tr>\n      <th>...</th>\n      <td>...</td>\n      <td>...</td>\n    </tr>\n    <tr>\n      <th>743</th>\n      <td>0.00</td>\n      <td>0.000000</td>\n    </tr>\n    <tr>\n      <th>744</th>\n      <td>0.00</td>\n      <td>0.000000</td>\n    </tr>\n    <tr>\n      <th>745</th>\n      <td>0.00</td>\n      <td>0.000000</td>\n    </tr>\n    <tr>\n      <th>746</th>\n      <td>0.00</td>\n      <td>0.000000</td>\n    </tr>\n    <tr>\n      <th>4309</th>\n      <td>0.00</td>\n      <td>0.000000</td>\n    </tr>\n  </tbody>\n</table>\n<p>8618 rows × 2 columns</p>\n</div>",
      "text/plain": "      Protein_(g)  prot_normalized\n4991        88.32         1.000000\n6155        85.60         0.969203\n216         84.63         0.958220\n8152        82.60         0.935236\n124         82.40         0.932971\n...           ...              ...\n743          0.00         0.000000\n744          0.00         0.000000\n745          0.00         0.000000\n746          0.00         0.000000\n4309         0.00         0.000000\n\n[8618 rows x 2 columns]"
     },
     "execution_count": 28,
     "metadata": {},
     "output_type": "execute_result"
    }
   ],
   "source": [
    "food_info = pd.read_csv(\"food_info.csv\")\n",
    "num_row = food_info.shape[0]\n",
    "\n",
    "gcol = []\n",
    "for col in list(food_info.columns):\n",
    "    if col.endswith('(g)'):\n",
    "        gcol.append(col)\n",
    "\n",
    "gcol2 = list(filter(\n",
    "    (lambda str:str.endswith('(g)')),\n",
    "    list(food_info.columns)))\n",
    "print(\"lol\")\n",
    "\n",
    "food_info[\"prot_normalized\"] = food_info[\"Protein_(g)\"] / food_info[\"Protein_(g)\"].max()\n",
    "food_info_prot = food_info[[\"Protein_(g)\",\"prot_normalized\"]]\n",
    "\n",
    "food_info_prot.sort_values(by=['prot_normalized'], ascending=False)\n"
   ]
  },
  {
   "cell_type": "code",
   "execution_count": 51,
   "metadata": {},
   "outputs": [
    {
     "data": {
      "text/html": "<div>\n<style scoped>\n    .dataframe tbody tr th:only-of-type {\n        vertical-align: middle;\n    }\n\n    .dataframe tbody tr th {\n        vertical-align: top;\n    }\n\n    .dataframe thead th {\n        text-align: right;\n    }\n</style>\n<table border=\"1\" class=\"dataframe\">\n  <thead>\n    <tr style=\"text-align: right;\">\n      <th></th>\n      <th>Price</th>\n      <th>Age</th>\n      <th>KM</th>\n      <th>HP</th>\n      <th>MetColor</th>\n      <th>Automatic</th>\n      <th>CC</th>\n      <th>Doors</th>\n      <th>Weight</th>\n    </tr>\n  </thead>\n  <tbody>\n    <tr>\n      <th>count</th>\n      <td>1439</td>\n      <td>1441</td>\n      <td>1440</td>\n      <td>1446</td>\n      <td>1446</td>\n      <td>1446</td>\n      <td>1446</td>\n      <td>1446</td>\n      <td>1446</td>\n    </tr>\n    <tr>\n      <th>mean</th>\n      <td>10728</td>\n      <td>56</td>\n      <td>68535</td>\n      <td>101</td>\n      <td>1</td>\n      <td>0</td>\n      <td>1567</td>\n      <td>4</td>\n      <td>1072</td>\n    </tr>\n    <tr>\n      <th>std</th>\n      <td>3624</td>\n      <td>19</td>\n      <td>37476</td>\n      <td>15</td>\n      <td>0</td>\n      <td>0</td>\n      <td>188</td>\n      <td>1</td>\n      <td>53</td>\n    </tr>\n    <tr>\n      <th>min</th>\n      <td>4350</td>\n      <td>1</td>\n      <td>1</td>\n      <td>69</td>\n      <td>0</td>\n      <td>0</td>\n      <td>1300</td>\n      <td>2</td>\n      <td>1000</td>\n    </tr>\n    <tr>\n      <th>25%</th>\n      <td>8450</td>\n      <td>44</td>\n      <td>43000</td>\n      <td>87</td>\n      <td>0</td>\n      <td>0</td>\n      <td>1400</td>\n      <td>3</td>\n      <td>1040</td>\n    </tr>\n    <tr>\n      <th>50%</th>\n      <td>9900</td>\n      <td>61</td>\n      <td>63390</td>\n      <td>110</td>\n      <td>1</td>\n      <td>0</td>\n      <td>1600</td>\n      <td>4</td>\n      <td>1070</td>\n    </tr>\n    <tr>\n      <th>75%</th>\n      <td>11950</td>\n      <td>70</td>\n      <td>87021</td>\n      <td>110</td>\n      <td>1</td>\n      <td>0</td>\n      <td>1600</td>\n      <td>5</td>\n      <td>1085</td>\n    </tr>\n    <tr>\n      <th>max</th>\n      <td>32500</td>\n      <td>80</td>\n      <td>243000</td>\n      <td>192</td>\n      <td>1</td>\n      <td>1</td>\n      <td>2000</td>\n      <td>5</td>\n      <td>1615</td>\n    </tr>\n  </tbody>\n</table>\n</div>",
      "text/plain": "       Price   Age      KM    HP  MetColor  Automatic    CC  Doors  Weight\ncount   1439  1441    1440  1446      1446       1446  1446   1446    1446\nmean   10728    56   68535   101         1          0  1567      4    1072\nstd     3624    19   37476    15         0          0   188      1      53\nmin     4350     1       1    69         0          0  1300      2    1000\n25%     8450    44   43000    87         0          0  1400      3    1040\n50%     9900    61   63390   110         1          0  1600      4    1070\n75%    11950    70   87021   110         1          0  1600      5    1085\nmax    32500    80  243000   192         1          1  2000      5    1615"
     },
     "execution_count": 51,
     "metadata": {},
     "output_type": "execute_result"
    }
   ],
   "source": [
    "toyota = pd.read_csv(\"toyota.csv\")\n",
    "toyota.describe().applymap(lambda x: round(x))"
   ]
  },
  {
   "cell_type": "code",
   "execution_count": 47,
   "metadata": {},
   "outputs": [
    {
     "data": {
      "text/plain": "Price        float64\nAge          float64\nKM           float64\nFuelType      object\nHP             int64\nMetColor       int64\nAutomatic      int64\nCC             int64\nDoors          int64\nWeight         int64\ndtype: object"
     },
     "execution_count": 47,
     "metadata": {},
     "output_type": "execute_result"
    }
   ],
   "source": [
    "toyota.dtypes"
   ]
  }
 ],
 "metadata": {
  "kernelspec": {
   "display_name": "Python 3.8.0 64-bit",
   "name": "python380jvsc74a57bd0aee8b7b246df8f9039afb4144a1f6fd8d2ca17a180786b69acc140d282b71a49"
  },
  "language_info": {
   "codemirror_mode": {
    "name": "ipython",
    "version": 3
   },
   "file_extension": ".py",
   "mimetype": "text/x-python",
   "name": "python",
   "nbconvert_exporter": "python",
   "pygments_lexer": "ipython3",
   "version": "3.8.0"
  },
  "metadata": {
   "interpreter": {
    "hash": "aee8b7b246df8f9039afb4144a1f6fd8d2ca17a180786b69acc140d282b71a49"
   }
  },
  "orig_nbformat": 3
 },
 "nbformat": 4,
 "nbformat_minor": 2
}